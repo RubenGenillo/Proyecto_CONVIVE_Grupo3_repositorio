{
  "nbformat": 4,
  "nbformat_minor": 0,
  "metadata": {
    "colab": {
      "provenance": []
    },
    "kernelspec": {
      "name": "python3",
      "display_name": "Python 3"
    },
    "language_info": {
      "name": "python"
    }
  },
  "cells": [
    {
      "cell_type": "markdown",
      "source": [
        "Importamos las librerías necesarias"
      ],
      "metadata": {
        "id": "ecIdQ5Rrk3f6"
      }
    },
    {
      "cell_type": "code",
      "source": [
        "import pandas as pd\n",
        "import numpy as np\n",
        "import matplotlib.pyplot as plt"
      ],
      "metadata": {
        "id": "aFECv27Ak8Nq"
      },
      "execution_count": null,
      "outputs": []
    },
    {
      "cell_type": "markdown",
      "source": [
        "Cargamos el archivo del drive"
      ],
      "metadata": {
        "id": "2MCNHi2QlLIu"
      }
    },
    {
      "cell_type": "code",
      "source": [
        "from google.colab import drive\n",
        "drive.mount(\"/content/drive\")\n",
        "df_trafico = pd.read_excel(\"/content/drive/MyDrive/Matemáticas y Ciencias de Datos para la toma de decisiones/Accidentalidad.xlsx\")\n",
        "df_trafico"
      ],
      "metadata": {
        "colab": {
          "base_uri": "https://localhost:8080/",
          "height": 1000
        },
        "id": "QRb8ed3nlO9x",
        "outputId": "1dd4a9fa-977a-432f-f952-e292999ab8c7"
      },
      "execution_count": null,
      "outputs": [
        {
          "output_type": "stream",
          "name": "stdout",
          "text": [
            "Drive already mounted at /content/drive; to attempt to forcibly remount, call drive.mount(\"/content/drive\", force_remount=True).\n"
          ]
        },
        {
          "output_type": "execute_result",
          "data": {
            "text/plain": [
              "      num_expediente      fecha      hora  \\\n",
              "0        2022S000001 2022-01-01  01:30:00   \n",
              "1        2022S000001 2022-01-01  01:30:00   \n",
              "2        2022S000002 2022-01-01  00:30:00   \n",
              "3        2022S000002 2022-01-01  00:30:00   \n",
              "4        2022S000002 2022-01-01  00:30:00   \n",
              "...              ...        ...       ...   \n",
              "59236    2023S013443 2023-03-31  13:30:00   \n",
              "59237    2023S013443 2023-03-31  13:30:00   \n",
              "59238    2023S013443 2023-03-31  13:30:00   \n",
              "59239    2023S014588 2023-03-17  11:50:00   \n",
              "59240    2023S014588 2023-03-17  11:50:00   \n",
              "\n",
              "                                     localizacion numero  cod_distrito  \\\n",
              "0                              AVDA. ALBUFERA, 19     19          13.0   \n",
              "1                              AVDA. ALBUFERA, 19     19          13.0   \n",
              "2      PLAZA. CANOVAS DEL CASTILLO / PASEO. PRADO      2           3.0   \n",
              "3      PLAZA. CANOVAS DEL CASTILLO / PASEO. PRADO      2           3.0   \n",
              "4      PLAZA. CANOVAS DEL CASTILLO / PASEO. PRADO      2           3.0   \n",
              "...                                           ...    ...           ...   \n",
              "59236          CALL. MENDEZ ALVARO / CALL. RETAMA     93          13.0   \n",
              "59237          CALL. MENDEZ ALVARO / CALL. RETAMA     93          13.0   \n",
              "59238          CALL. MENDEZ ALVARO / CALL. RETAMA     93          13.0   \n",
              "59239                   PASEO. CASTELLANA / CUZCO    162           5.0   \n",
              "59240                   PASEO. CASTELLANA / CUZCO    162           5.0   \n",
              "\n",
              "                 distrito           tipo_accidente estado_meteorológico  \\\n",
              "0      PUENTE DE VALLECAS                  Alcance            Despejado   \n",
              "1      PUENTE DE VALLECAS                  Alcance            Despejado   \n",
              "2                  RETIRO  Colisión fronto-lateral                  NaN   \n",
              "3                  RETIRO  Colisión fronto-lateral                  NaN   \n",
              "4                  RETIRO  Colisión fronto-lateral                  NaN   \n",
              "...                   ...                      ...                  ...   \n",
              "59236  PUENTE DE VALLECAS                  Alcance            Despejado   \n",
              "59237  PUENTE DE VALLECAS                  Alcance            Despejado   \n",
              "59238  PUENTE DE VALLECAS                  Alcance            Despejado   \n",
              "59239           CHAMARTÍN                  Alcance            Despejado   \n",
              "59240           CHAMARTÍN                  Alcance            Despejado   \n",
              "\n",
              "                   tipo_vehiculo tipo_persona       rango_edad         sexo  \\\n",
              "0                        Turismo    Conductor  De 30 a 34 años        Mujer   \n",
              "1                        Turismo    Conductor  De 45 a 49 años       Hombre   \n",
              "2        Motocicleta hasta 125cc    Conductor  De 30 a 34 años       Hombre   \n",
              "3        Motocicleta hasta 125cc     Pasajero  De 35 a 39 años        Mujer   \n",
              "4                        Turismo    Conductor  De 40 a 44 años       Hombre   \n",
              "...                          ...          ...              ...          ...   \n",
              "59236    Motocicleta hasta 125cc    Conductor  De 25 a 29 años       Hombre   \n",
              "59237                    Turismo    Conductor  De 40 a 44 años       Hombre   \n",
              "59238                    Turismo     Pasajero  De 40 a 44 años        Mujer   \n",
              "59239                        NaN    Conductor      Desconocido  Desconocido   \n",
              "59240  Otros vehículos con motor    Conductor  De 50 a 54 años       Hombre   \n",
              "\n",
              "       cod_lesividad lesividad  coordenada_x_utm  coordenada_y_utm  \\\n",
              "0                NaN       NaN        443359.226       4472082.272   \n",
              "1                NaN       NaN        443359.226       4472082.272   \n",
              "2                NaN       NaN        441155.351       4474129.588   \n",
              "3                NaN       NaN        441155.351       4474129.588   \n",
              "4                NaN       NaN        441155.351       4474129.588   \n",
              "...              ...       ...               ...               ...   \n",
              "59236            NaN       NaN        442561.327       4471590.750   \n",
              "59237            NaN       NaN        442561.327       4471590.750   \n",
              "59238            NaN       NaN        442561.327       4471590.750   \n",
              "59239            NaN       NaN        441499.788       4478869.639   \n",
              "59240            NaN       NaN        441499.788       4478869.639   \n",
              "\n",
              "      positiva_alcohol  positiva_droga  \n",
              "0                    N             NaN  \n",
              "1                    N             NaN  \n",
              "2                    S             NaN  \n",
              "3                    N             NaN  \n",
              "4                    N             NaN  \n",
              "...                ...             ...  \n",
              "59236                N             NaN  \n",
              "59237                N             NaN  \n",
              "59238                N             NaN  \n",
              "59239                N             NaN  \n",
              "59240                N             NaN  \n",
              "\n",
              "[59241 rows x 19 columns]"
            ],
            "text/html": [
              "\n",
              "  <div id=\"df-6ecd2eee-01f4-46f9-81f4-0bb148f605e5\">\n",
              "    <div class=\"colab-df-container\">\n",
              "      <div>\n",
              "<style scoped>\n",
              "    .dataframe tbody tr th:only-of-type {\n",
              "        vertical-align: middle;\n",
              "    }\n",
              "\n",
              "    .dataframe tbody tr th {\n",
              "        vertical-align: top;\n",
              "    }\n",
              "\n",
              "    .dataframe thead th {\n",
              "        text-align: right;\n",
              "    }\n",
              "</style>\n",
              "<table border=\"1\" class=\"dataframe\">\n",
              "  <thead>\n",
              "    <tr style=\"text-align: right;\">\n",
              "      <th></th>\n",
              "      <th>num_expediente</th>\n",
              "      <th>fecha</th>\n",
              "      <th>hora</th>\n",
              "      <th>localizacion</th>\n",
              "      <th>numero</th>\n",
              "      <th>cod_distrito</th>\n",
              "      <th>distrito</th>\n",
              "      <th>tipo_accidente</th>\n",
              "      <th>estado_meteorológico</th>\n",
              "      <th>tipo_vehiculo</th>\n",
              "      <th>tipo_persona</th>\n",
              "      <th>rango_edad</th>\n",
              "      <th>sexo</th>\n",
              "      <th>cod_lesividad</th>\n",
              "      <th>lesividad</th>\n",
              "      <th>coordenada_x_utm</th>\n",
              "      <th>coordenada_y_utm</th>\n",
              "      <th>positiva_alcohol</th>\n",
              "      <th>positiva_droga</th>\n",
              "    </tr>\n",
              "  </thead>\n",
              "  <tbody>\n",
              "    <tr>\n",
              "      <th>0</th>\n",
              "      <td>2022S000001</td>\n",
              "      <td>2022-01-01</td>\n",
              "      <td>01:30:00</td>\n",
              "      <td>AVDA. ALBUFERA, 19</td>\n",
              "      <td>19</td>\n",
              "      <td>13.0</td>\n",
              "      <td>PUENTE DE VALLECAS</td>\n",
              "      <td>Alcance</td>\n",
              "      <td>Despejado</td>\n",
              "      <td>Turismo</td>\n",
              "      <td>Conductor</td>\n",
              "      <td>De 30 a 34 años</td>\n",
              "      <td>Mujer</td>\n",
              "      <td>NaN</td>\n",
              "      <td>NaN</td>\n",
              "      <td>443359.226</td>\n",
              "      <td>4472082.272</td>\n",
              "      <td>N</td>\n",
              "      <td>NaN</td>\n",
              "    </tr>\n",
              "    <tr>\n",
              "      <th>1</th>\n",
              "      <td>2022S000001</td>\n",
              "      <td>2022-01-01</td>\n",
              "      <td>01:30:00</td>\n",
              "      <td>AVDA. ALBUFERA, 19</td>\n",
              "      <td>19</td>\n",
              "      <td>13.0</td>\n",
              "      <td>PUENTE DE VALLECAS</td>\n",
              "      <td>Alcance</td>\n",
              "      <td>Despejado</td>\n",
              "      <td>Turismo</td>\n",
              "      <td>Conductor</td>\n",
              "      <td>De 45 a 49 años</td>\n",
              "      <td>Hombre</td>\n",
              "      <td>NaN</td>\n",
              "      <td>NaN</td>\n",
              "      <td>443359.226</td>\n",
              "      <td>4472082.272</td>\n",
              "      <td>N</td>\n",
              "      <td>NaN</td>\n",
              "    </tr>\n",
              "    <tr>\n",
              "      <th>2</th>\n",
              "      <td>2022S000002</td>\n",
              "      <td>2022-01-01</td>\n",
              "      <td>00:30:00</td>\n",
              "      <td>PLAZA. CANOVAS DEL CASTILLO / PASEO. PRADO</td>\n",
              "      <td>2</td>\n",
              "      <td>3.0</td>\n",
              "      <td>RETIRO</td>\n",
              "      <td>Colisión fronto-lateral</td>\n",
              "      <td>NaN</td>\n",
              "      <td>Motocicleta hasta 125cc</td>\n",
              "      <td>Conductor</td>\n",
              "      <td>De 30 a 34 años</td>\n",
              "      <td>Hombre</td>\n",
              "      <td>NaN</td>\n",
              "      <td>NaN</td>\n",
              "      <td>441155.351</td>\n",
              "      <td>4474129.588</td>\n",
              "      <td>S</td>\n",
              "      <td>NaN</td>\n",
              "    </tr>\n",
              "    <tr>\n",
              "      <th>3</th>\n",
              "      <td>2022S000002</td>\n",
              "      <td>2022-01-01</td>\n",
              "      <td>00:30:00</td>\n",
              "      <td>PLAZA. CANOVAS DEL CASTILLO / PASEO. PRADO</td>\n",
              "      <td>2</td>\n",
              "      <td>3.0</td>\n",
              "      <td>RETIRO</td>\n",
              "      <td>Colisión fronto-lateral</td>\n",
              "      <td>NaN</td>\n",
              "      <td>Motocicleta hasta 125cc</td>\n",
              "      <td>Pasajero</td>\n",
              "      <td>De 35 a 39 años</td>\n",
              "      <td>Mujer</td>\n",
              "      <td>NaN</td>\n",
              "      <td>NaN</td>\n",
              "      <td>441155.351</td>\n",
              "      <td>4474129.588</td>\n",
              "      <td>N</td>\n",
              "      <td>NaN</td>\n",
              "    </tr>\n",
              "    <tr>\n",
              "      <th>4</th>\n",
              "      <td>2022S000002</td>\n",
              "      <td>2022-01-01</td>\n",
              "      <td>00:30:00</td>\n",
              "      <td>PLAZA. CANOVAS DEL CASTILLO / PASEO. PRADO</td>\n",
              "      <td>2</td>\n",
              "      <td>3.0</td>\n",
              "      <td>RETIRO</td>\n",
              "      <td>Colisión fronto-lateral</td>\n",
              "      <td>NaN</td>\n",
              "      <td>Turismo</td>\n",
              "      <td>Conductor</td>\n",
              "      <td>De 40 a 44 años</td>\n",
              "      <td>Hombre</td>\n",
              "      <td>NaN</td>\n",
              "      <td>NaN</td>\n",
              "      <td>441155.351</td>\n",
              "      <td>4474129.588</td>\n",
              "      <td>N</td>\n",
              "      <td>NaN</td>\n",
              "    </tr>\n",
              "    <tr>\n",
              "      <th>...</th>\n",
              "      <td>...</td>\n",
              "      <td>...</td>\n",
              "      <td>...</td>\n",
              "      <td>...</td>\n",
              "      <td>...</td>\n",
              "      <td>...</td>\n",
              "      <td>...</td>\n",
              "      <td>...</td>\n",
              "      <td>...</td>\n",
              "      <td>...</td>\n",
              "      <td>...</td>\n",
              "      <td>...</td>\n",
              "      <td>...</td>\n",
              "      <td>...</td>\n",
              "      <td>...</td>\n",
              "      <td>...</td>\n",
              "      <td>...</td>\n",
              "      <td>...</td>\n",
              "      <td>...</td>\n",
              "    </tr>\n",
              "    <tr>\n",
              "      <th>59236</th>\n",
              "      <td>2023S013443</td>\n",
              "      <td>2023-03-31</td>\n",
              "      <td>13:30:00</td>\n",
              "      <td>CALL. MENDEZ ALVARO / CALL. RETAMA</td>\n",
              "      <td>93</td>\n",
              "      <td>13.0</td>\n",
              "      <td>PUENTE DE VALLECAS</td>\n",
              "      <td>Alcance</td>\n",
              "      <td>Despejado</td>\n",
              "      <td>Motocicleta hasta 125cc</td>\n",
              "      <td>Conductor</td>\n",
              "      <td>De 25 a 29 años</td>\n",
              "      <td>Hombre</td>\n",
              "      <td>NaN</td>\n",
              "      <td>NaN</td>\n",
              "      <td>442561.327</td>\n",
              "      <td>4471590.750</td>\n",
              "      <td>N</td>\n",
              "      <td>NaN</td>\n",
              "    </tr>\n",
              "    <tr>\n",
              "      <th>59237</th>\n",
              "      <td>2023S013443</td>\n",
              "      <td>2023-03-31</td>\n",
              "      <td>13:30:00</td>\n",
              "      <td>CALL. MENDEZ ALVARO / CALL. RETAMA</td>\n",
              "      <td>93</td>\n",
              "      <td>13.0</td>\n",
              "      <td>PUENTE DE VALLECAS</td>\n",
              "      <td>Alcance</td>\n",
              "      <td>Despejado</td>\n",
              "      <td>Turismo</td>\n",
              "      <td>Conductor</td>\n",
              "      <td>De 40 a 44 años</td>\n",
              "      <td>Hombre</td>\n",
              "      <td>NaN</td>\n",
              "      <td>NaN</td>\n",
              "      <td>442561.327</td>\n",
              "      <td>4471590.750</td>\n",
              "      <td>N</td>\n",
              "      <td>NaN</td>\n",
              "    </tr>\n",
              "    <tr>\n",
              "      <th>59238</th>\n",
              "      <td>2023S013443</td>\n",
              "      <td>2023-03-31</td>\n",
              "      <td>13:30:00</td>\n",
              "      <td>CALL. MENDEZ ALVARO / CALL. RETAMA</td>\n",
              "      <td>93</td>\n",
              "      <td>13.0</td>\n",
              "      <td>PUENTE DE VALLECAS</td>\n",
              "      <td>Alcance</td>\n",
              "      <td>Despejado</td>\n",
              "      <td>Turismo</td>\n",
              "      <td>Pasajero</td>\n",
              "      <td>De 40 a 44 años</td>\n",
              "      <td>Mujer</td>\n",
              "      <td>NaN</td>\n",
              "      <td>NaN</td>\n",
              "      <td>442561.327</td>\n",
              "      <td>4471590.750</td>\n",
              "      <td>N</td>\n",
              "      <td>NaN</td>\n",
              "    </tr>\n",
              "    <tr>\n",
              "      <th>59239</th>\n",
              "      <td>2023S014588</td>\n",
              "      <td>2023-03-17</td>\n",
              "      <td>11:50:00</td>\n",
              "      <td>PASEO. CASTELLANA / CUZCO</td>\n",
              "      <td>162</td>\n",
              "      <td>5.0</td>\n",
              "      <td>CHAMARTÍN</td>\n",
              "      <td>Alcance</td>\n",
              "      <td>Despejado</td>\n",
              "      <td>NaN</td>\n",
              "      <td>Conductor</td>\n",
              "      <td>Desconocido</td>\n",
              "      <td>Desconocido</td>\n",
              "      <td>NaN</td>\n",
              "      <td>NaN</td>\n",
              "      <td>441499.788</td>\n",
              "      <td>4478869.639</td>\n",
              "      <td>N</td>\n",
              "      <td>NaN</td>\n",
              "    </tr>\n",
              "    <tr>\n",
              "      <th>59240</th>\n",
              "      <td>2023S014588</td>\n",
              "      <td>2023-03-17</td>\n",
              "      <td>11:50:00</td>\n",
              "      <td>PASEO. CASTELLANA / CUZCO</td>\n",
              "      <td>162</td>\n",
              "      <td>5.0</td>\n",
              "      <td>CHAMARTÍN</td>\n",
              "      <td>Alcance</td>\n",
              "      <td>Despejado</td>\n",
              "      <td>Otros vehículos con motor</td>\n",
              "      <td>Conductor</td>\n",
              "      <td>De 50 a 54 años</td>\n",
              "      <td>Hombre</td>\n",
              "      <td>NaN</td>\n",
              "      <td>NaN</td>\n",
              "      <td>441499.788</td>\n",
              "      <td>4478869.639</td>\n",
              "      <td>N</td>\n",
              "      <td>NaN</td>\n",
              "    </tr>\n",
              "  </tbody>\n",
              "</table>\n",
              "<p>59241 rows × 19 columns</p>\n",
              "</div>\n",
              "      <button class=\"colab-df-convert\" onclick=\"convertToInteractive('df-6ecd2eee-01f4-46f9-81f4-0bb148f605e5')\"\n",
              "              title=\"Convert this dataframe to an interactive table.\"\n",
              "              style=\"display:none;\">\n",
              "        \n",
              "  <svg xmlns=\"http://www.w3.org/2000/svg\" height=\"24px\"viewBox=\"0 0 24 24\"\n",
              "       width=\"24px\">\n",
              "    <path d=\"M0 0h24v24H0V0z\" fill=\"none\"/>\n",
              "    <path d=\"M18.56 5.44l.94 2.06.94-2.06 2.06-.94-2.06-.94-.94-2.06-.94 2.06-2.06.94zm-11 1L8.5 8.5l.94-2.06 2.06-.94-2.06-.94L8.5 2.5l-.94 2.06-2.06.94zm10 10l.94 2.06.94-2.06 2.06-.94-2.06-.94-.94-2.06-.94 2.06-2.06.94z\"/><path d=\"M17.41 7.96l-1.37-1.37c-.4-.4-.92-.59-1.43-.59-.52 0-1.04.2-1.43.59L10.3 9.45l-7.72 7.72c-.78.78-.78 2.05 0 2.83L4 21.41c.39.39.9.59 1.41.59.51 0 1.02-.2 1.41-.59l7.78-7.78 2.81-2.81c.8-.78.8-2.07 0-2.86zM5.41 20L4 18.59l7.72-7.72 1.47 1.35L5.41 20z\"/>\n",
              "  </svg>\n",
              "      </button>\n",
              "      \n",
              "  <style>\n",
              "    .colab-df-container {\n",
              "      display:flex;\n",
              "      flex-wrap:wrap;\n",
              "      gap: 12px;\n",
              "    }\n",
              "\n",
              "    .colab-df-convert {\n",
              "      background-color: #E8F0FE;\n",
              "      border: none;\n",
              "      border-radius: 50%;\n",
              "      cursor: pointer;\n",
              "      display: none;\n",
              "      fill: #1967D2;\n",
              "      height: 32px;\n",
              "      padding: 0 0 0 0;\n",
              "      width: 32px;\n",
              "    }\n",
              "\n",
              "    .colab-df-convert:hover {\n",
              "      background-color: #E2EBFA;\n",
              "      box-shadow: 0px 1px 2px rgba(60, 64, 67, 0.3), 0px 1px 3px 1px rgba(60, 64, 67, 0.15);\n",
              "      fill: #174EA6;\n",
              "    }\n",
              "\n",
              "    [theme=dark] .colab-df-convert {\n",
              "      background-color: #3B4455;\n",
              "      fill: #D2E3FC;\n",
              "    }\n",
              "\n",
              "    [theme=dark] .colab-df-convert:hover {\n",
              "      background-color: #434B5C;\n",
              "      box-shadow: 0px 1px 3px 1px rgba(0, 0, 0, 0.15);\n",
              "      filter: drop-shadow(0px 1px 2px rgba(0, 0, 0, 0.3));\n",
              "      fill: #FFFFFF;\n",
              "    }\n",
              "  </style>\n",
              "\n",
              "      <script>\n",
              "        const buttonEl =\n",
              "          document.querySelector('#df-6ecd2eee-01f4-46f9-81f4-0bb148f605e5 button.colab-df-convert');\n",
              "        buttonEl.style.display =\n",
              "          google.colab.kernel.accessAllowed ? 'block' : 'none';\n",
              "\n",
              "        async function convertToInteractive(key) {\n",
              "          const element = document.querySelector('#df-6ecd2eee-01f4-46f9-81f4-0bb148f605e5');\n",
              "          const dataTable =\n",
              "            await google.colab.kernel.invokeFunction('convertToInteractive',\n",
              "                                                     [key], {});\n",
              "          if (!dataTable) return;\n",
              "\n",
              "          const docLinkHtml = 'Like what you see? Visit the ' +\n",
              "            '<a target=\"_blank\" href=https://colab.research.google.com/notebooks/data_table.ipynb>data table notebook</a>'\n",
              "            + ' to learn more about interactive tables.';\n",
              "          element.innerHTML = '';\n",
              "          dataTable['output_type'] = 'display_data';\n",
              "          await google.colab.output.renderOutput(dataTable, element);\n",
              "          const docLink = document.createElement('div');\n",
              "          docLink.innerHTML = docLinkHtml;\n",
              "          element.appendChild(docLink);\n",
              "        }\n",
              "      </script>\n",
              "    </div>\n",
              "  </div>\n",
              "  "
            ]
          },
          "metadata": {},
          "execution_count": 3
        }
      ]
    },
    {
      "cell_type": "markdown",
      "source": [
        "Identificamos datos NaN o no válidos o valores nulos"
      ],
      "metadata": {
        "id": "Mbepip28ml56"
      }
    },
    {
      "cell_type": "code",
      "source": [
        "df_trafico.isna().sum()"
      ],
      "metadata": {
        "colab": {
          "base_uri": "https://localhost:8080/"
        },
        "id": "ceQbjRRWnNco",
        "outputId": "b7141ec1-bd3c-4b7f-81b9-2664c41ff87a"
      },
      "execution_count": null,
      "outputs": [
        {
          "output_type": "execute_result",
          "data": {
            "text/plain": [
              "num_expediente              0\n",
              "fecha                       0\n",
              "hora                        0\n",
              "localizacion                0\n",
              "numero                      1\n",
              "cod_distrito                1\n",
              "distrito                    1\n",
              "tipo_accidente              0\n",
              "estado_meteorológico     6705\n",
              "tipo_vehiculo             296\n",
              "tipo_persona                0\n",
              "rango_edad                  0\n",
              "sexo                        0\n",
              "cod_lesividad           28068\n",
              "lesividad               28068\n",
              "coordenada_x_utm           12\n",
              "coordenada_y_utm           12\n",
              "positiva_alcohol          274\n",
              "positiva_droga          59051\n",
              "dtype: int64"
            ]
          },
          "metadata": {},
          "execution_count": 4
        }
      ]
    },
    {
      "cell_type": "code",
      "source": [
        "df_trafico[\"estado_meteorológico\"].isna().sum()"
      ],
      "metadata": {
        "colab": {
          "base_uri": "https://localhost:8080/"
        },
        "id": "5ukciAVDqQbS",
        "outputId": "0a23f37f-e369-41d2-b2fc-3214de0b7478"
      },
      "execution_count": null,
      "outputs": [
        {
          "output_type": "execute_result",
          "data": {
            "text/plain": [
              "6705"
            ]
          },
          "metadata": {},
          "execution_count": 5
        }
      ]
    },
    {
      "cell_type": "code",
      "source": [
        "# Mostrar los valores nulos para cada campo\n",
        "df_trafico[\"estado_meteorológico\"][df_trafico[\"estado_meteorológico\"].isna()]"
      ],
      "metadata": {
        "colab": {
          "base_uri": "https://localhost:8080/"
        },
        "id": "dniXi4RtqzhJ",
        "outputId": "563d3ba6-05fe-41f0-b439-704d177c0d5f"
      },
      "execution_count": null,
      "outputs": [
        {
          "output_type": "execute_result",
          "data": {
            "text/plain": [
              "2        NaN\n",
              "3        NaN\n",
              "4        NaN\n",
              "14       NaN\n",
              "51       NaN\n",
              "        ... \n",
              "59231    NaN\n",
              "59232    NaN\n",
              "59233    NaN\n",
              "59234    NaN\n",
              "59235    NaN\n",
              "Name: estado_meteorológico, Length: 6705, dtype: object"
            ]
          },
          "metadata": {},
          "execution_count": 9
        }
      ]
    },
    {
      "cell_type": "markdown",
      "source": [],
      "metadata": {
        "id": "kUgeUAw0rm_8"
      }
    },
    {
      "cell_type": "markdown",
      "source": [
        "Crear una gráfica de barras"
      ],
      "metadata": {
        "id": "PIcqv6WxrnP3"
      }
    },
    {
      "cell_type": "code",
      "source": [
        "conteo_sexo = df_trafico[\"sexo\"].value_counts()\n",
        "print(conteo_sexo)"
      ],
      "metadata": {
        "colab": {
          "base_uri": "https://localhost:8080/"
        },
        "id": "Sz6jm6chrqeZ",
        "outputId": "db88840c-bd3c-4a3a-f586-c45caf3a3783"
      },
      "execution_count": null,
      "outputs": [
        {
          "output_type": "stream",
          "name": "stdout",
          "text": [
            "Hombre         35826\n",
            "Mujer          17130\n",
            "Desconocido     6285\n",
            "Name: sexo, dtype: int64\n"
          ]
        }
      ]
    },
    {
      "cell_type": "code",
      "source": [
        "df_trafico[\"sexo\"] = df_trafico[\"sexo\"].replace(\"Desconocido\",\"Prefiere no contestar\")\n",
        "conteo_sexo = df_trafico[\"sexo\"].value_counts()\n",
        "print(conteo_sexo)"
      ],
      "metadata": {
        "colab": {
          "base_uri": "https://localhost:8080/"
        },
        "id": "eZgRpBWssMqx",
        "outputId": "fc128c46-f40d-40a6-dba9-2d6b3c271566"
      },
      "execution_count": null,
      "outputs": [
        {
          "output_type": "stream",
          "name": "stdout",
          "text": [
            "Hombre                   35826\n",
            "Mujer                    17130\n",
            "Prefiere no contestar     6285\n",
            "Name: sexo, dtype: int64\n"
          ]
        }
      ]
    },
    {
      "cell_type": "code",
      "source": [
        "conteo_sexo.plot(kind=\"bar\")\n",
        "plt.xlabel(\"Sexo\")\n",
        "plt.ylabel(\"Conteo\")\n",
        "plt.title(\"Sexo de las personas que tuvieron un accidente\")"
      ],
      "metadata": {
        "colab": {
          "base_uri": "https://localhost:8080/",
          "height": 620
        },
        "id": "hYw8SAVztCIH",
        "outputId": "b5046da6-f50a-4ae4-c38e-24a40ad07bd5"
      },
      "execution_count": null,
      "outputs": [
        {
          "output_type": "execute_result",
          "data": {
            "text/plain": [
              "Text(0.5, 1.0, 'Sexo de las personas que tuvieron un accidente')"
            ]
          },
          "metadata": {},
          "execution_count": 13
        },
        {
          "output_type": "display_data",
          "data": {
            "text/plain": [
              "<Figure size 640x480 with 1 Axes>"
            ],
            "image/png": "[encoded data removed]"
          },
          "metadata": {}
        }
      ]
    },
    {
      "cell_type": "markdown",
      "source": [
        "Estadística básica para datos cuantitativos"
      ],
      "metadata": {
        "id": "j7LdkL1wtjRx"
      }
    },
    {
      "cell_type": "code",
      "source": [
        "print(df_trafico[\"cod_distrito\"].mean())"
      ],
      "metadata": {
        "colab": {
          "base_uri": "https://localhost:8080/"
        },
        "id": "IxnJfjYitthw",
        "outputId": "fa0f938a-26d3-4013-ec4a-e6b53a8f14c0"
      },
      "execution_count": null,
      "outputs": [
        {
          "output_type": "stream",
          "name": "stdout",
          "text": [
            "9.886242403781228\n"
          ]
        }
      ]
    },
    {
      "cell_type": "code",
      "source": [
        "print(df_trafico[\"cod_distrito\"].median())"
      ],
      "metadata": {
        "colab": {
          "base_uri": "https://localhost:8080/"
        },
        "id": "Scm_qYw7t2fK",
        "outputId": "5c5b7aa7-b91c-49be-e5b3-bc5469766a3e"
      },
      "execution_count": null,
      "outputs": [
        {
          "output_type": "stream",
          "name": "stdout",
          "text": [
            "10.0\n"
          ]
        }
      ]
    },
    {
      "cell_type": "code",
      "source": [
        "print(\"Valor máximo:\" ,df_trafico[\"cod_distrito\"].max())\n",
        "print(\"Valor mínimo:\" ,df_trafico[\"cod_distrito\"].min())\n",
        "rango = df_trafico[\"cod_distrito\"].max() - df_trafico[\"cod_distrito\"].min()\n",
        "print(\"Rango: \",rango)"
      ],
      "metadata": {
        "colab": {
          "base_uri": "https://localhost:8080/"
        },
        "id": "qrm9iUn-t7l9",
        "outputId": "e903b8f5-f325-4ade-c2d9-00d93a57213c"
      },
      "execution_count": null,
      "outputs": [
        {
          "output_type": "stream",
          "name": "stdout",
          "text": [
            "Valor máximo: 21.0\n",
            "Valor mínimo: 1.0\n",
            "Rango:  20.0\n"
          ]
        }
      ]
    }
  ]
}